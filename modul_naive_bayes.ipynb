{
  "nbformat": 4,
  "nbformat_minor": 0,
  "metadata": {
    "colab": {
      "name": "modul naive bayes.ipynb",
      "provenance": [],
      "collapsed_sections": [],
      "authorship_tag": "ABX9TyOJLX8oCFwv3KjDQD42EGsn",
      "include_colab_link": true
    },
    "kernelspec": {
      "name": "python3",
      "display_name": "Python 3"
    },
    "language_info": {
      "name": "python"
    }
  },
  "cells": [
    {
      "cell_type": "markdown",
      "metadata": {
        "id": "view-in-github",
        "colab_type": "text"
      },
      "source": [
        "<a href=\"https://colab.research.google.com/github/nurindahfidiawati/Datamining/blob/master/modul_naive_bayes.ipynb\" target=\"_parent\"><img src=\"https://colab.research.google.com/assets/colab-badge.svg\" alt=\"Open In Colab\"/></a>"
      ]
    },
    {
      "cell_type": "code",
      "metadata": {
        "id": "pYRGPU0ir4sk"
      },
      "source": [
        "import pandas as pd\n",
        "from sklearn.naive_bayes import GaussianNB\n",
        "from sklearn.model_selection import train_test_split\n",
        "from sklearn.datasets import load_iris"
      ],
      "execution_count": null,
      "outputs": []
    },
    {
      "cell_type": "markdown",
      "metadata": {
        "id": "ukW-OLWOsJjr"
      },
      "source": [
        "Data Adult\n"
      ]
    },
    {
      "cell_type": "code",
      "metadata": {
        "id": "yYueCjkUsEyl"
      },
      "source": [
        "columns = ['age', \n",
        "           'workclass', \n",
        "           'fnlwgt', \n",
        "           'education', \n",
        "           'education-num', \n",
        "           'marital-status', \n",
        "           'occupation', \n",
        "           'relationship', \n",
        "           'race', \n",
        "           'sex', \n",
        "           'capital-gain', \n",
        "           'capital-loss', \n",
        "           'hours-per-week', \n",
        "           'native-country', \n",
        "           'label']\n",
        "df = pd.read_csv(\"https://archive.ics.uci.edu/ml/machine-learning-databases/adult/adult.data\", names=columns)\n",
        "df.head()"
      ],
      "execution_count": null,
      "outputs": []
    },
    {
      "cell_type": "code",
      "metadata": {
        "id": "dTicDTj-tBCp"
      },
      "source": [
        "inputs = df.drop(['label', 'workclass', 'occupation', 'native-country', 'fnlwgt'],axis='columns')\n",
        "target = pd.get_dummies(df.label)\n",
        "target = target[\" <=50K\"]"
      ],
      "execution_count": null,
      "outputs": []
    },
    {
      "cell_type": "code",
      "metadata": {
        "id": "KbCe511-tBp9"
      },
      "source": [
        "#cek data null\n",
        "df[df['native-country'] == \" ?\"].count()"
      ],
      "execution_count": null,
      "outputs": []
    },
    {
      "cell_type": "code",
      "metadata": {
        "id": "9WHspXw-tWgm"
      },
      "source": [
        "#workclass = pd.get_dummies(inputs['workclass'])\n",
        "education = pd.get_dummies(inputs['education'])\n",
        "marital_status = pd.get_dummies(inputs['marital-status'])\n",
        "#occupation = pd.get_dummies(inputs['occupation'])\n",
        "relationship = pd.get_dummies(inputs['relationship'])\n",
        "race = pd.get_dummies(inputs['race'])\n",
        "sex = pd.get_dummies(inputs['sex'])\n",
        "#native_country = pd.get_dummies(inputs['native-country'])"
      ],
      "execution_count": null,
      "outputs": []
    },
    {
      "cell_type": "code",
      "metadata": {
        "id": "ZXTeMsY9ta2r"
      },
      "source": [
        "inputs = pd.concat([inputs, education, marital_status, relationship, race, sex], axis='columns')\n",
        "inputs = inputs.drop(['education', 'marital-status', 'relationship', 'race', 'sex', ' Male'], axis='columns')\n",
        "inputs.head()"
      ],
      "execution_count": null,
      "outputs": []
    },
    {
      "cell_type": "code",
      "metadata": {
        "id": "jjp_T7Xptbcn"
      },
      "source": [
        "iris = load_iris()\n",
        "inputs = pd.DataFrame(iris.data, columns=iris.feature_names)\n",
        "target = pd.Series(iris.target)"
      ],
      "execution_count": null,
      "outputs": []
    },
    {
      "cell_type": "markdown",
      "metadata": {
        "id": "1FGXTzgKtnax"
      },
      "source": [
        "Model"
      ]
    },
    {
      "cell_type": "code",
      "metadata": {
        "id": "Em6n93i0tfxc"
      },
      "source": [
        "# test 0.2\n",
        "X_train, X_test, y_train, y_test = train_test_split(inputs,target,test_size=0.2)"
      ],
      "execution_count": null,
      "outputs": []
    },
    {
      "cell_type": "code",
      "metadata": {
        "id": "lWdmkMGUuS3C"
      },
      "source": [
        "# test 0.3\n",
        "X_train, X_test, y_train, y_test = train_test_split(inputs,target,test_size=0.3)"
      ],
      "execution_count": null,
      "outputs": []
    },
    {
      "cell_type": "code",
      "metadata": {
        "id": "b0kmg0wPuXnc"
      },
      "source": [
        "# test 0.4\n",
        "X_train, X_test, y_train, y_test = train_test_split(inputs,target,test_size=0.4)"
      ],
      "execution_count": null,
      "outputs": []
    },
    {
      "cell_type": "markdown",
      "metadata": {
        "id": "rlPnuz37uh_6"
      },
      "source": [
        "Pelatihan dan Prediksi"
      ]
    },
    {
      "cell_type": "code",
      "metadata": {
        "id": "Aq8LH-JXueZM"
      },
      "source": [
        "model = GaussianNB()\n",
        "model.fit(X_train,y_train)\n",
        "model.score(X_test,y_test)"
      ],
      "execution_count": null,
      "outputs": []
    },
    {
      "cell_type": "code",
      "metadata": {
        "id": "yNsy0eZCupPF"
      },
      "source": [
        "model.predict(X_test[:10])"
      ],
      "execution_count": null,
      "outputs": []
    },
    {
      "cell_type": "code",
      "metadata": {
        "id": "Mgb2oKUXurpb"
      },
      "source": [
        "model.predict_proba(X_test[:10])"
      ],
      "execution_count": null,
      "outputs": []
    }
  ]
}