{
  "nbformat": 4,
  "nbformat_minor": 0,
  "metadata": {
    "colab": {
      "name": "iris.ipynb",
      "provenance": [],
      "collapsed_sections": [],
      "authorship_tag": "ABX9TyMPyLrJ5bvn4C7/wNQCAKDB",
      "include_colab_link": true
    },
    "kernelspec": {
      "name": "python3",
      "display_name": "Python 3"
    },
    "language_info": {
      "name": "python"
    }
  },
  "cells": [
    {
      "cell_type": "markdown",
      "metadata": {
        "id": "view-in-github",
        "colab_type": "text"
      },
      "source": [
        "<a href=\"https://colab.research.google.com/github/nurindahfidiawati/Datamining/blob/master/iris.ipynb\" target=\"_parent\"><img src=\"https://colab.research.google.com/assets/colab-badge.svg\" alt=\"Open In Colab\"/></a>"
      ]
    },
    {
      "cell_type": "code",
      "metadata": {
        "id": "CKYexErkLD-g"
      },
      "source": [
        "import pandas as pd\n",
        "from sklearn.model_selection import train_test_split\n",
        "from sklearn.naive_bayes import GaussianNB"
      ],
      "execution_count": null,
      "outputs": []
    },
    {
      "cell_type": "code",
      "metadata": {
        "colab": {
          "base_uri": "https://localhost:8080/",
          "height": 204
        },
        "id": "icdeeMRTLQtc",
        "outputId": "0c49d85d-fa46-4b7e-be08-80a06639b892"
      },
      "source": [
        "\n",
        "# import modul\n",
        "df = pd.read_csv(\"iris.csv\")\n",
        "df.head()\n"
      ],
      "execution_count": null,
      "outputs": [
        {
          "output_type": "execute_result",
          "data": {
            "text/html": [
              "<div>\n",
              "<style scoped>\n",
              "    .dataframe tbody tr th:only-of-type {\n",
              "        vertical-align: middle;\n",
              "    }\n",
              "\n",
              "    .dataframe tbody tr th {\n",
              "        vertical-align: top;\n",
              "    }\n",
              "\n",
              "    .dataframe thead th {\n",
              "        text-align: right;\n",
              "    }\n",
              "</style>\n",
              "<table border=\"1\" class=\"dataframe\">\n",
              "  <thead>\n",
              "    <tr style=\"text-align: right;\">\n",
              "      <th></th>\n",
              "      <th>sepal_length</th>\n",
              "      <th>sepal_width</th>\n",
              "      <th>petal_length</th>\n",
              "      <th>petal_width</th>\n",
              "      <th>variety</th>\n",
              "    </tr>\n",
              "  </thead>\n",
              "  <tbody>\n",
              "    <tr>\n",
              "      <th>0</th>\n",
              "      <td>5.1</td>\n",
              "      <td>3.5</td>\n",
              "      <td>1.4</td>\n",
              "      <td>0.2</td>\n",
              "      <td>Setosa</td>\n",
              "    </tr>\n",
              "    <tr>\n",
              "      <th>1</th>\n",
              "      <td>4.9</td>\n",
              "      <td>3.0</td>\n",
              "      <td>1.4</td>\n",
              "      <td>0.2</td>\n",
              "      <td>Setosa</td>\n",
              "    </tr>\n",
              "    <tr>\n",
              "      <th>2</th>\n",
              "      <td>4.7</td>\n",
              "      <td>3.2</td>\n",
              "      <td>1.3</td>\n",
              "      <td>0.2</td>\n",
              "      <td>Setosa</td>\n",
              "    </tr>\n",
              "    <tr>\n",
              "      <th>3</th>\n",
              "      <td>4.6</td>\n",
              "      <td>3.1</td>\n",
              "      <td>1.5</td>\n",
              "      <td>0.2</td>\n",
              "      <td>Setosa</td>\n",
              "    </tr>\n",
              "    <tr>\n",
              "      <th>4</th>\n",
              "      <td>5.0</td>\n",
              "      <td>3.6</td>\n",
              "      <td>1.4</td>\n",
              "      <td>0.2</td>\n",
              "      <td>Setosa</td>\n",
              "    </tr>\n",
              "  </tbody>\n",
              "</table>\n",
              "</div>"
            ],
            "text/plain": [
              "   sepal_length  sepal_width  petal_length  petal_width variety\n",
              "0           5.1          3.5           1.4          0.2  Setosa\n",
              "1           4.9          3.0           1.4          0.2  Setosa\n",
              "2           4.7          3.2           1.3          0.2  Setosa\n",
              "3           4.6          3.1           1.5          0.2  Setosa\n",
              "4           5.0          3.6           1.4          0.2  Setosa"
            ]
          },
          "metadata": {
            "tags": []
          },
          "execution_count": 3
        }
      ]
    },
    {
      "cell_type": "code",
      "metadata": {
        "colab": {
          "base_uri": "https://localhost:8080/",
          "height": 204
        },
        "id": "ZRcjBKTxLSwX",
        "outputId": "bce8cd90-5273-4914-9efc-860e7a70c901"
      },
      "source": [
        "\n",
        "#drop hilangkan\n",
        "# df.drop(['sepal_length', 'sepal_width'],axis='columns',inplace=True)\n",
        "# df.head()\n",
        "\n",
        "# df.drop(['sepal_length', 'petal_width'],axis='columns',inplace=True)\n",
        "# df.head()\n",
        "\n",
        "df.drop(['sepal_width', 'petal_width'],axis='columns',inplace=True)\n",
        "df.head()\n",
        "\n",
        "# df.drop(['petal_length', 'petal_width'],axis='columns',inplace=True)\n",
        "# df.head()\n"
      ],
      "execution_count": null,
      "outputs": [
        {
          "output_type": "execute_result",
          "data": {
            "text/html": [
              "<div>\n",
              "<style scoped>\n",
              "    .dataframe tbody tr th:only-of-type {\n",
              "        vertical-align: middle;\n",
              "    }\n",
              "\n",
              "    .dataframe tbody tr th {\n",
              "        vertical-align: top;\n",
              "    }\n",
              "\n",
              "    .dataframe thead th {\n",
              "        text-align: right;\n",
              "    }\n",
              "</style>\n",
              "<table border=\"1\" class=\"dataframe\">\n",
              "  <thead>\n",
              "    <tr style=\"text-align: right;\">\n",
              "      <th></th>\n",
              "      <th>sepal_length</th>\n",
              "      <th>petal_length</th>\n",
              "      <th>variety</th>\n",
              "    </tr>\n",
              "  </thead>\n",
              "  <tbody>\n",
              "    <tr>\n",
              "      <th>0</th>\n",
              "      <td>5.1</td>\n",
              "      <td>1.4</td>\n",
              "      <td>Setosa</td>\n",
              "    </tr>\n",
              "    <tr>\n",
              "      <th>1</th>\n",
              "      <td>4.9</td>\n",
              "      <td>1.4</td>\n",
              "      <td>Setosa</td>\n",
              "    </tr>\n",
              "    <tr>\n",
              "      <th>2</th>\n",
              "      <td>4.7</td>\n",
              "      <td>1.3</td>\n",
              "      <td>Setosa</td>\n",
              "    </tr>\n",
              "    <tr>\n",
              "      <th>3</th>\n",
              "      <td>4.6</td>\n",
              "      <td>1.5</td>\n",
              "      <td>Setosa</td>\n",
              "    </tr>\n",
              "    <tr>\n",
              "      <th>4</th>\n",
              "      <td>5.0</td>\n",
              "      <td>1.4</td>\n",
              "      <td>Setosa</td>\n",
              "    </tr>\n",
              "  </tbody>\n",
              "</table>\n",
              "</div>"
            ],
            "text/plain": [
              "   sepal_length  petal_length variety\n",
              "0           5.1           1.4  Setosa\n",
              "1           4.9           1.4  Setosa\n",
              "2           4.7           1.3  Setosa\n",
              "3           4.6           1.5  Setosa\n",
              "4           5.0           1.4  Setosa"
            ]
          },
          "metadata": {
            "tags": []
          },
          "execution_count": 4
        }
      ]
    },
    {
      "cell_type": "code",
      "metadata": {
        "id": "XjB6o26kLV5i"
      },
      "source": [
        "\n",
        "\n",
        "#pisahkan atribut dengan class\n",
        "var = df.drop('variety',axis='columns')\n",
        "# drop class\n",
        "iris = df.variety\n",
        "# tampung class\n"
      ],
      "execution_count": null,
      "outputs": []
    },
    {
      "cell_type": "code",
      "metadata": {
        "colab": {
          "base_uri": "https://localhost:8080/",
          "height": 204
        },
        "id": "1sHZKXqGLX6Z",
        "outputId": "46578d94-dec9-4124-8f80-9a167610a271"
      },
      "source": [
        "\n",
        "\n",
        "var.head()\n",
        "#tampilkan atribut \n"
      ],
      "execution_count": null,
      "outputs": [
        {
          "output_type": "execute_result",
          "data": {
            "text/html": [
              "<div>\n",
              "<style scoped>\n",
              "    .dataframe tbody tr th:only-of-type {\n",
              "        vertical-align: middle;\n",
              "    }\n",
              "\n",
              "    .dataframe tbody tr th {\n",
              "        vertical-align: top;\n",
              "    }\n",
              "\n",
              "    .dataframe thead th {\n",
              "        text-align: right;\n",
              "    }\n",
              "</style>\n",
              "<table border=\"1\" class=\"dataframe\">\n",
              "  <thead>\n",
              "    <tr style=\"text-align: right;\">\n",
              "      <th></th>\n",
              "      <th>sepal_length</th>\n",
              "      <th>petal_length</th>\n",
              "    </tr>\n",
              "  </thead>\n",
              "  <tbody>\n",
              "    <tr>\n",
              "      <th>0</th>\n",
              "      <td>5.1</td>\n",
              "      <td>1.4</td>\n",
              "    </tr>\n",
              "    <tr>\n",
              "      <th>1</th>\n",
              "      <td>4.9</td>\n",
              "      <td>1.4</td>\n",
              "    </tr>\n",
              "    <tr>\n",
              "      <th>2</th>\n",
              "      <td>4.7</td>\n",
              "      <td>1.3</td>\n",
              "    </tr>\n",
              "    <tr>\n",
              "      <th>3</th>\n",
              "      <td>4.6</td>\n",
              "      <td>1.5</td>\n",
              "    </tr>\n",
              "    <tr>\n",
              "      <th>4</th>\n",
              "      <td>5.0</td>\n",
              "      <td>1.4</td>\n",
              "    </tr>\n",
              "  </tbody>\n",
              "</table>\n",
              "</div>"
            ],
            "text/plain": [
              "   sepal_length  petal_length\n",
              "0           5.1           1.4\n",
              "1           4.9           1.4\n",
              "2           4.7           1.3\n",
              "3           4.6           1.5\n",
              "4           5.0           1.4"
            ]
          },
          "metadata": {
            "tags": []
          },
          "execution_count": 6
        }
      ]
    },
    {
      "cell_type": "code",
      "metadata": {
        "colab": {
          "base_uri": "https://localhost:8080/"
        },
        "id": "tSzUxf9oLZuD",
        "outputId": "7000ca1b-dc9e-4a03-e31e-05a3a58d66cd"
      },
      "source": [
        "\n",
        "\n",
        "#tampilkan class\n",
        "# iris = df.variety\n",
        "iris.head()\n"
      ],
      "execution_count": null,
      "outputs": [
        {
          "output_type": "execute_result",
          "data": {
            "text/plain": [
              "0    Setosa\n",
              "1    Setosa\n",
              "2    Setosa\n",
              "3    Setosa\n",
              "4    Setosa\n",
              "Name: variety, dtype: object"
            ]
          },
          "metadata": {
            "tags": []
          },
          "execution_count": 7
        }
      ]
    },
    {
      "cell_type": "code",
      "metadata": {
        "colab": {
          "base_uri": "https://localhost:8080/"
        },
        "id": "O51vR-9uLbZ0",
        "outputId": "9340d654-fb43-45cc-a8ed-b8ac3ab48635"
      },
      "source": [
        "\n",
        "\n",
        "#cek variabel terdapat yag null / kosong ?\n",
        "var.columns[var.isna().any()]\n"
      ],
      "execution_count": null,
      "outputs": [
        {
          "output_type": "execute_result",
          "data": {
            "text/plain": [
              "Index([], dtype='object')"
            ]
          },
          "metadata": {
            "tags": []
          },
          "execution_count": 8
        }
      ]
    },
    {
      "cell_type": "code",
      "metadata": {
        "id": "dfCYVYuSLdOA"
      },
      "source": [
        "\n",
        "\n",
        "\n",
        "#training set dan testing set\n",
        "#cek random state dengan perbandingan 0,2 / 100 / 20%\n",
        "# X_train, X_test, y_train, y_test = train_test_split(var,iris,test_size=0.2, random_state = 100)\n",
        "\n",
        "\n",
        "#cek random state dengan perbandingan 0,3 / 100 / 30%\n",
        "#X_train, X_test, y_train, y_test = train_test_split(var,iris,test_size=0.3, random_state = 100)\n",
        "\n",
        "\n",
        "#cek random state  dengan perbandingan 0,4 / 100 / 40%\n",
        "X_train, X_test, y_train, y_test = train_test_split(var,iris,test_size=0.4, random_state = 100)\n"
      ],
      "execution_count": null,
      "outputs": []
    },
    {
      "cell_type": "code",
      "metadata": {
        "colab": {
          "base_uri": "https://localhost:8080/"
        },
        "id": "le3xC7NiLgyW",
        "outputId": "86078e6c-1f3e-4d29-c83c-268df20d482b"
      },
      "source": [
        "\n",
        "\n",
        "\n",
        "# hitung akurasinya\n",
        "model = GaussianNB()\n",
        "model.fit(X_train,y_train)\n",
        "model.score(X_test,y_test)\n"
      ],
      "execution_count": null,
      "outputs": [
        {
          "output_type": "execute_result",
          "data": {
            "text/plain": [
              "0.9666666666666667"
            ]
          },
          "metadata": {
            "tags": []
          },
          "execution_count": 10
        }
      ]
    },
    {
      "cell_type": "code",
      "metadata": {
        "colab": {
          "base_uri": "https://localhost:8080/",
          "height": 359
        },
        "id": "cdVE-TF_Liy5",
        "outputId": "522c7301-9a70-4591-b5ab-f7b29a31cd2f"
      },
      "source": [
        "\n",
        "\n",
        "# test atribut acak dengan jumlah sebanyak 10 dari var x_test\n",
        "X_test[0:10]\n",
        "\n"
      ],
      "execution_count": null,
      "outputs": [
        {
          "output_type": "execute_result",
          "data": {
            "text/html": [
              "<div>\n",
              "<style scoped>\n",
              "    .dataframe tbody tr th:only-of-type {\n",
              "        vertical-align: middle;\n",
              "    }\n",
              "\n",
              "    .dataframe tbody tr th {\n",
              "        vertical-align: top;\n",
              "    }\n",
              "\n",
              "    .dataframe thead th {\n",
              "        text-align: right;\n",
              "    }\n",
              "</style>\n",
              "<table border=\"1\" class=\"dataframe\">\n",
              "  <thead>\n",
              "    <tr style=\"text-align: right;\">\n",
              "      <th></th>\n",
              "      <th>sepal_length</th>\n",
              "      <th>petal_length</th>\n",
              "    </tr>\n",
              "  </thead>\n",
              "  <tbody>\n",
              "    <tr>\n",
              "      <th>128</th>\n",
              "      <td>6.4</td>\n",
              "      <td>5.6</td>\n",
              "    </tr>\n",
              "    <tr>\n",
              "      <th>11</th>\n",
              "      <td>4.8</td>\n",
              "      <td>1.6</td>\n",
              "    </tr>\n",
              "    <tr>\n",
              "      <th>118</th>\n",
              "      <td>7.7</td>\n",
              "      <td>6.9</td>\n",
              "    </tr>\n",
              "    <tr>\n",
              "      <th>15</th>\n",
              "      <td>5.7</td>\n",
              "      <td>1.5</td>\n",
              "    </tr>\n",
              "    <tr>\n",
              "      <th>123</th>\n",
              "      <td>6.3</td>\n",
              "      <td>4.9</td>\n",
              "    </tr>\n",
              "    <tr>\n",
              "      <th>135</th>\n",
              "      <td>7.7</td>\n",
              "      <td>6.1</td>\n",
              "    </tr>\n",
              "    <tr>\n",
              "      <th>32</th>\n",
              "      <td>5.2</td>\n",
              "      <td>1.5</td>\n",
              "    </tr>\n",
              "    <tr>\n",
              "      <th>1</th>\n",
              "      <td>4.9</td>\n",
              "      <td>1.4</td>\n",
              "    </tr>\n",
              "    <tr>\n",
              "      <th>116</th>\n",
              "      <td>6.5</td>\n",
              "      <td>5.5</td>\n",
              "    </tr>\n",
              "    <tr>\n",
              "      <th>45</th>\n",
              "      <td>4.8</td>\n",
              "      <td>1.4</td>\n",
              "    </tr>\n",
              "  </tbody>\n",
              "</table>\n",
              "</div>"
            ],
            "text/plain": [
              "     sepal_length  petal_length\n",
              "128           6.4           5.6\n",
              "11            4.8           1.6\n",
              "118           7.7           6.9\n",
              "15            5.7           1.5\n",
              "123           6.3           4.9\n",
              "135           7.7           6.1\n",
              "32            5.2           1.5\n",
              "1             4.9           1.4\n",
              "116           6.5           5.5\n",
              "45            4.8           1.4"
            ]
          },
          "metadata": {
            "tags": []
          },
          "execution_count": 11
        }
      ]
    },
    {
      "cell_type": "code",
      "metadata": {
        "colab": {
          "base_uri": "https://localhost:8080/"
        },
        "id": "TNH9rdr8LkiS",
        "outputId": "a99dc5e1-704d-49d6-865c-b61213b94849"
      },
      "source": [
        "\n",
        "\n",
        "\n",
        "# test jenis class dari atribut yang digunakan sebelumnya\n",
        "y_test[0:10]\n"
      ],
      "execution_count": null,
      "outputs": [
        {
          "output_type": "execute_result",
          "data": {
            "text/plain": [
              "128    Virginica\n",
              "11        Setosa\n",
              "118    Virginica\n",
              "15        Setosa\n",
              "123    Virginica\n",
              "135    Virginica\n",
              "32        Setosa\n",
              "1         Setosa\n",
              "116    Virginica\n",
              "45        Setosa\n",
              "Name: variety, dtype: object"
            ]
          },
          "metadata": {
            "tags": []
          },
          "execution_count": 12
        }
      ]
    },
    {
      "cell_type": "code",
      "metadata": {
        "colab": {
          "base_uri": "https://localhost:8080/"
        },
        "id": "Zrx8G3g1LmpM",
        "outputId": "43f9db46-5035-4869-ed17-28f8d53fd83c"
      },
      "source": [
        "\n",
        "# mencetak model prediksi dari variabel X_Test dengan parameter var dan iris\n",
        "model.predict(X_test[0:10])\n"
      ],
      "execution_count": null,
      "outputs": [
        {
          "output_type": "execute_result",
          "data": {
            "text/plain": [
              "array(['Virginica', 'Setosa', 'Virginica', 'Setosa', 'Virginica',\n",
              "       'Virginica', 'Setosa', 'Setosa', 'Virginica', 'Setosa'],\n",
              "      dtype='<U10')"
            ]
          },
          "metadata": {
            "tags": []
          },
          "execution_count": 13
        }
      ]
    },
    {
      "cell_type": "code",
      "metadata": {
        "colab": {
          "base_uri": "https://localhost:8080/"
        },
        "id": "3RhhAfZKLob3",
        "outputId": "d04f880f-466f-46b6-bfc2-cc2ea1397d84"
      },
      "source": [
        "\n",
        "\n",
        "#cetak nilai probabilitas dari variety \n",
        "# hasil yang paling besar digunakan sebagai prediksi\n",
        "model.predict_proba(X_test[:10])\n",
        "\n"
      ],
      "execution_count": null,
      "outputs": [
        {
          "output_type": "execute_result",
          "data": {
            "text/plain": [
              "array([[7.66320268e-099, 2.78111076e-002, 9.72188892e-001],\n",
              "       [9.99999915e-001, 8.53152939e-008, 9.38118651e-017],\n",
              "       [4.91240881e-173, 6.57609799e-006, 9.99993424e-001],\n",
              "       [9.99999158e-001, 8.41683326e-007, 1.34262352e-015],\n",
              "       [8.79498228e-069, 4.98108109e-001, 5.01891891e-001],\n",
              "       [1.73083123e-129, 2.04439575e-004, 9.99795560e-001],\n",
              "       [9.99999914e-001, 8.55164924e-008, 7.39058734e-017],\n",
              "       [9.99999989e-001, 1.07582954e-008, 3.59567568e-018],\n",
              "       [1.08085996e-094, 3.70453875e-002, 9.62954612e-001],\n",
              "       [9.99999992e-001, 8.16463011e-009, 2.48907252e-018]])"
            ]
          },
          "metadata": {
            "tags": []
          },
          "execution_count": 14
        }
      ]
    }
  ]
}