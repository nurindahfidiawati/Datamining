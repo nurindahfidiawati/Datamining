{
  "nbformat": 4,
  "nbformat_minor": 0,
  "metadata": {
    "colab": {
      "name": "Diabetes.ipynb",
      "provenance": [],
      "collapsed_sections": [],
      "authorship_tag": "ABX9TyMElfiIicRxIxDEtPm7suap",
      "include_colab_link": true
    },
    "kernelspec": {
      "name": "python3",
      "display_name": "Python 3"
    },
    "language_info": {
      "name": "python"
    }
  },
  "cells": [
    {
      "cell_type": "markdown",
      "metadata": {
        "id": "view-in-github",
        "colab_type": "text"
      },
      "source": [
        "<a href=\"https://colab.research.google.com/github/nurindahfidiawati/Datamining/blob/master/Diabetes.ipynb\" target=\"_parent\"><img src=\"https://colab.research.google.com/assets/colab-badge.svg\" alt=\"Open In Colab\"/></a>"
      ]
    },
    {
      "cell_type": "code",
      "metadata": {
        "id": "lmsEzo5IhmPf"
      },
      "source": [
        "\n",
        "import numpy as np \n",
        "import pandas as pd \n",
        "import sklearn\n",
        "from sklearn.model_selection import train_test_split\n",
        "from sklearn.metrics import confusion_matrix \n",
        "from sklearn.tree import DecisionTreeClassifier \n",
        "from sklearn.metrics import accuracy_score \n",
        "from matplotlib import pyplot as plt\n",
        "from sklearn import datasets\n",
        "from sklearn import tree\n",
        "from sklearn.metrics import confusion_matrix\n",
        "from sklearn.metrics import plot_confusion_matrix\n"
      ],
      "execution_count": null,
      "outputs": []
    },
    {
      "cell_type": "code",
      "metadata": {
        "id": "WXRLVsv2jyCd"
      },
      "source": [
        "diabetes = pd.read_csv(\"diabetes.csv\")\n",
        "print(diabetes.to_string())"
      ],
      "execution_count": null,
      "outputs": []
    },
    {
      "cell_type": "code",
      "metadata": {
        "colab": {
          "base_uri": "https://localhost:8080/"
        },
        "id": "gOXXMt0Aj4pK",
        "outputId": "1b98642e-42c2-4dd0-aaee-37c2d971b39d"
      },
      "source": [
        "print (\"Dataset Shape: \", diabetes.shape) \n",
        "print (\"Dataset: \",diabetes.head())"
      ],
      "execution_count": null,
      "outputs": [
        {
          "output_type": "stream",
          "text": [
            "Dataset Shape:  (768, 9)\n",
            "Dataset:     Pregnancies  Glucose  BloodPressure  ...  DiabetesPedigreeFunction  Age  Outcome\n",
            "0            6      148             72  ...                     0.627   50        1\n",
            "1            1       85             66  ...                     0.351   31        0\n",
            "2            8      183             64  ...                     0.672   32        1\n",
            "3            1       89             66  ...                     0.167   21        0\n",
            "4            0      137             40  ...                     2.288   33        1\n",
            "\n",
            "[5 rows x 9 columns]\n"
          ],
          "name": "stdout"
        }
      ]
    },
    {
      "cell_type": "code",
      "metadata": {
        "id": "GoNiEBN8j-u0"
      },
      "source": [
        "\n",
        "X = diabetes.values[:, 0:8] \n",
        "Y = diabetes.values[:, 8]"
      ],
      "execution_count": null,
      "outputs": []
    },
    {
      "cell_type": "code",
      "metadata": {
        "colab": {
          "base_uri": "https://localhost:8080/"
        },
        "id": "2vWcUqenkMSp",
        "outputId": "0aa3dba0-ab82-4d0e-c37a-e5dc61d084e8"
      },
      "source": [
        "#20%\n",
        "# X_train, X_test, Y_train, Y_test = train_test_split(X, Y, test_size = 0.2, random_state = 100)\n",
        "# clf= DecisionTreeClassifier(random_state = 100)\n",
        "# clf.fit(X_train, Y_train)\n",
        "\n",
        "#30%\n",
        "X_train, X_test, Y_train, Y_test = train_test_split(X, Y, test_size = 0.3, random_state = 100)\n",
        "clf= DecisionTreeClassifier(random_state = 100)\n",
        "clf.fit(X_train, Y_train)\n",
        "\n",
        "#40%\n",
        "# X_train, X_test, Y_train, Y_test = train_test_split(X, Y, test_size = 0.4, random_state = 100)\n",
        "# clf= DecisionTreeClassifier(random_state = 100)\n",
        "# clf.fit(X_train, Y_train)"
      ],
      "execution_count": null,
      "outputs": [
        {
          "output_type": "execute_result",
          "data": {
            "text/plain": [
              "DecisionTreeClassifier(ccp_alpha=0.0, class_weight=None, criterion='gini',\n",
              "                       max_depth=None, max_features=None, max_leaf_nodes=None,\n",
              "                       min_impurity_decrease=0.0, min_impurity_split=None,\n",
              "                       min_samples_leaf=1, min_samples_split=2,\n",
              "                       min_weight_fraction_leaf=0.0, presort='deprecated',\n",
              "                       random_state=100, splitter='best')"
            ]
          },
          "metadata": {
            "tags": []
          },
          "execution_count": 12
        }
      ]
    },
    {
      "cell_type": "code",
      "metadata": {
        "colab": {
          "base_uri": "https://localhost:8080/"
        },
        "id": "ZI8r3dftkSMp",
        "outputId": "233cc115-5943-492d-a2a4-42858ec39785"
      },
      "source": [
        "X=[[6,148,72,35,0,33.6,0.627,50]]\n",
        "Y_pred=clf.predict(X)\n",
        "print(Y_pred)\n",
        "Y_pred=clf.predict(X_test)\n",
        "print(Y_pred)"
      ],
      "execution_count": null,
      "outputs": [
        {
          "output_type": "stream",
          "text": [
            "[1.]\n",
            "[0. 0. 1. 0. 0. 1. 1. 1. 1. 0. 0. 1. 1. 0. 1. 0. 0. 1. 1. 0. 0. 0. 1. 1.\n",
            " 0. 1. 0. 1. 1. 1. 0. 1. 1. 0. 0. 0. 1. 0. 0. 0. 0. 1. 1. 0. 0. 0. 0. 1.\n",
            " 1. 1. 0. 0. 0. 1. 0. 0. 0. 1. 0. 0. 0. 0. 0. 0. 0. 0. 0. 0. 1. 0. 0. 1.\n",
            " 0. 0. 0. 1. 0. 0. 0. 0. 0. 1. 0. 0. 0. 0. 0. 0. 0. 1. 0. 0. 1. 0. 0. 1.\n",
            " 0. 1. 0. 0. 1. 0. 1. 1. 0. 1. 1. 0. 0. 1. 0. 0. 0. 0. 0. 0. 1. 0. 0. 0.\n",
            " 0. 1. 1. 1. 0. 0. 0. 0. 0. 0. 0. 1. 1. 0. 0. 1. 0. 1. 0. 1. 1. 1. 0. 1.\n",
            " 0. 0. 0. 1. 0. 0. 0. 0. 0. 1. 1. 0. 0. 1. 0. 0. 0. 0. 0. 0. 0. 0. 0. 0.\n",
            " 0. 0. 0. 0. 0. 0. 1. 0. 1. 0. 1. 0. 1. 1. 0. 0. 0. 0. 0. 1. 1. 0. 1. 0.\n",
            " 0. 1. 0. 1. 0. 0. 0. 1. 1. 1. 0. 0. 1. 1. 1. 0. 0. 0. 0. 0. 0. 0. 1. 1.\n",
            " 0. 0. 1. 0. 1. 0. 0. 0. 0. 0. 0. 0. 1. 1. 0.]\n"
          ],
          "name": "stdout"
        }
      ]
    },
    {
      "cell_type": "code",
      "metadata": {
        "colab": {
          "base_uri": "https://localhost:8080/",
          "height": 296
        },
        "id": "2lM2rJx9kU2h",
        "outputId": "bb9ab2b7-ea2d-4278-fa23-caf506f22379"
      },
      "source": [
        "plot_confusion_matrix(clf, X_test, Y_test)  \n",
        "plt.show()\n",
        "accuracy_score(Y_test,Y_pred)"
      ],
      "execution_count": null,
      "outputs": [
        {
          "output_type": "display_data",
          "data": {
            "image/png": "[encoded data removed]",
            "text/plain": [
              "<Figure size 432x288 with 2 Axes>"
            ]
          },
          "metadata": {
            "tags": [],
            "needs_background": "light"
          }
        },
        {
          "output_type": "execute_result",
          "data": {
            "text/plain": [
              "0.683982683982684"
            ]
          },
          "metadata": {
            "tags": []
          },
          "execution_count": 14
        }
      ]
    },
    {
      "cell_type": "code",
      "metadata": {
        "colab": {
          "base_uri": "https://localhost:8080/",
          "height": 1000
        },
        "id": "HL7s8mQTkdnc",
        "outputId": "a755757f-fe54-4c87-96a1-56122db0f799"
      },
      "source": [
        "tree.plot_tree(clf)\n",
        "text_representation = tree.export_text(clf)\n",
        "print(text_representation)"
      ],
      "execution_count": null,
      "outputs": [
        {
          "output_type": "stream",
          "text": [
            "|--- feature_1 <= 123.50\n",
            "|   |--- feature_7 <= 28.50\n",
            "|   |   |--- feature_5 <= 49.10\n",
            "|   |   |   |--- feature_0 <= 7.50\n",
            "|   |   |   |   |--- feature_5 <= 30.95\n",
            "|   |   |   |   |   |--- class: 0.0\n",
            "|   |   |   |   |--- feature_5 >  30.95\n",
            "|   |   |   |   |   |--- feature_2 <= 22.00\n",
            "|   |   |   |   |   |   |--- class: 1.0\n",
            "|   |   |   |   |   |--- feature_2 >  22.00\n",
            "|   |   |   |   |   |   |--- feature_5 <= 31.10\n",
            "|   |   |   |   |   |   |   |--- class: 1.0\n",
            "|   |   |   |   |   |   |--- feature_5 >  31.10\n",
            "|   |   |   |   |   |   |   |--- feature_6 <= 0.50\n",
            "|   |   |   |   |   |   |   |   |--- feature_5 <= 31.80\n",
            "|   |   |   |   |   |   |   |   |   |--- feature_0 <= 2.50\n",
            "|   |   |   |   |   |   |   |   |   |   |--- class: 0.0\n",
            "|   |   |   |   |   |   |   |   |   |--- feature_0 >  2.50\n",
            "|   |   |   |   |   |   |   |   |   |   |--- class: 1.0\n",
            "|   |   |   |   |   |   |   |   |--- feature_5 >  31.80\n",
            "|   |   |   |   |   |   |   |   |   |--- class: 0.0\n",
            "|   |   |   |   |   |   |   |--- feature_6 >  0.50\n",
            "|   |   |   |   |   |   |   |   |--- feature_6 <= 0.51\n",
            "|   |   |   |   |   |   |   |   |   |--- class: 1.0\n",
            "|   |   |   |   |   |   |   |   |--- feature_6 >  0.51\n",
            "|   |   |   |   |   |   |   |   |   |--- feature_2 <= 67.00\n",
            "|   |   |   |   |   |   |   |   |   |   |--- feature_5 <= 34.25\n",
            "|   |   |   |   |   |   |   |   |   |   |   |--- class: 1.0\n",
            "|   |   |   |   |   |   |   |   |   |   |--- feature_5 >  34.25\n",
            "|   |   |   |   |   |   |   |   |   |   |   |--- truncated branch of depth 3\n",
            "|   |   |   |   |   |   |   |   |   |--- feature_2 >  67.00\n",
            "|   |   |   |   |   |   |   |   |   |   |--- class: 0.0\n",
            "|   |   |   |--- feature_0 >  7.50\n",
            "|   |   |   |   |--- class: 1.0\n",
            "|   |   |--- feature_5 >  49.10\n",
            "|   |   |   |--- class: 1.0\n",
            "|   |--- feature_7 >  28.50\n",
            "|   |   |--- feature_5 <= 26.95\n",
            "|   |   |   |--- class: 0.0\n",
            "|   |   |--- feature_5 >  26.95\n",
            "|   |   |   |--- feature_6 <= 0.62\n",
            "|   |   |   |   |--- feature_1 <= 111.50\n",
            "|   |   |   |   |   |--- feature_5 <= 27.65\n",
            "|   |   |   |   |   |   |--- class: 1.0\n",
            "|   |   |   |   |   |--- feature_5 >  27.65\n",
            "|   |   |   |   |   |   |--- feature_0 <= 13.50\n",
            "|   |   |   |   |   |   |   |--- feature_1 <= 28.50\n",
            "|   |   |   |   |   |   |   |   |--- class: 1.0\n",
            "|   |   |   |   |   |   |   |--- feature_1 >  28.50\n",
            "|   |   |   |   |   |   |   |   |--- feature_1 <= 93.50\n",
            "|   |   |   |   |   |   |   |   |   |--- class: 0.0\n",
            "|   |   |   |   |   |   |   |   |--- feature_1 >  93.50\n",
            "|   |   |   |   |   |   |   |   |   |--- feature_2 <= 15.00\n",
            "|   |   |   |   |   |   |   |   |   |   |--- class: 1.0\n",
            "|   |   |   |   |   |   |   |   |   |--- feature_2 >  15.00\n",
            "|   |   |   |   |   |   |   |   |   |   |--- feature_2 <= 73.00\n",
            "|   |   |   |   |   |   |   |   |   |   |   |--- class: 0.0\n",
            "|   |   |   |   |   |   |   |   |   |   |--- feature_2 >  73.00\n",
            "|   |   |   |   |   |   |   |   |   |   |   |--- truncated branch of depth 6\n",
            "|   |   |   |   |   |   |--- feature_0 >  13.50\n",
            "|   |   |   |   |   |   |   |--- class: 1.0\n",
            "|   |   |   |   |--- feature_1 >  111.50\n",
            "|   |   |   |   |   |--- feature_1 <= 119.50\n",
            "|   |   |   |   |   |   |--- feature_6 <= 0.20\n",
            "|   |   |   |   |   |   |   |--- class: 0.0\n",
            "|   |   |   |   |   |   |--- feature_6 >  0.20\n",
            "|   |   |   |   |   |   |   |--- feature_2 <= 85.00\n",
            "|   |   |   |   |   |   |   |   |--- class: 1.0\n",
            "|   |   |   |   |   |   |   |--- feature_2 >  85.00\n",
            "|   |   |   |   |   |   |   |   |--- feature_6 <= 0.37\n",
            "|   |   |   |   |   |   |   |   |   |--- class: 0.0\n",
            "|   |   |   |   |   |   |   |   |--- feature_6 >  0.37\n",
            "|   |   |   |   |   |   |   |   |   |--- class: 1.0\n",
            "|   |   |   |   |   |--- feature_1 >  119.50\n",
            "|   |   |   |   |   |   |--- feature_2 <= 34.00\n",
            "|   |   |   |   |   |   |   |--- class: 1.0\n",
            "|   |   |   |   |   |   |--- feature_2 >  34.00\n",
            "|   |   |   |   |   |   |   |--- class: 0.0\n",
            "|   |   |   |--- feature_6 >  0.62\n",
            "|   |   |   |   |--- feature_0 <= 4.50\n",
            "|   |   |   |   |   |--- feature_4 <= 133.00\n",
            "|   |   |   |   |   |   |--- feature_7 <= 58.00\n",
            "|   |   |   |   |   |   |   |--- feature_7 <= 36.50\n",
            "|   |   |   |   |   |   |   |   |--- class: 0.0\n",
            "|   |   |   |   |   |   |   |--- feature_7 >  36.50\n",
            "|   |   |   |   |   |   |   |   |--- feature_3 <= 15.00\n",
            "|   |   |   |   |   |   |   |   |   |--- class: 0.0\n",
            "|   |   |   |   |   |   |   |   |--- feature_3 >  15.00\n",
            "|   |   |   |   |   |   |   |   |   |--- class: 1.0\n",
            "|   |   |   |   |   |   |--- feature_7 >  58.00\n",
            "|   |   |   |   |   |   |   |--- class: 1.0\n",
            "|   |   |   |   |   |--- feature_4 >  133.00\n",
            "|   |   |   |   |   |   |--- class: 1.0\n",
            "|   |   |   |   |--- feature_0 >  4.50\n",
            "|   |   |   |   |   |--- feature_2 <= 87.00\n",
            "|   |   |   |   |   |   |--- feature_1 <= 86.50\n",
            "|   |   |   |   |   |   |   |--- feature_1 <= 41.50\n",
            "|   |   |   |   |   |   |   |   |--- class: 1.0\n",
            "|   |   |   |   |   |   |   |--- feature_1 >  41.50\n",
            "|   |   |   |   |   |   |   |   |--- class: 0.0\n",
            "|   |   |   |   |   |   |--- feature_1 >  86.50\n",
            "|   |   |   |   |   |   |   |--- class: 1.0\n",
            "|   |   |   |   |   |--- feature_2 >  87.00\n",
            "|   |   |   |   |   |   |--- class: 0.0\n",
            "|--- feature_1 >  123.50\n",
            "|   |--- feature_1 <= 158.50\n",
            "|   |   |--- feature_5 <= 41.65\n",
            "|   |   |   |--- feature_6 <= 0.72\n",
            "|   |   |   |   |--- feature_6 <= 0.22\n",
            "|   |   |   |   |   |--- feature_3 <= 22.50\n",
            "|   |   |   |   |   |   |--- feature_0 <= 5.50\n",
            "|   |   |   |   |   |   |   |--- class: 0.0\n",
            "|   |   |   |   |   |   |--- feature_0 >  5.50\n",
            "|   |   |   |   |   |   |   |--- feature_1 <= 142.00\n",
            "|   |   |   |   |   |   |   |   |--- class: 0.0\n",
            "|   |   |   |   |   |   |   |--- feature_1 >  142.00\n",
            "|   |   |   |   |   |   |   |   |--- class: 1.0\n",
            "|   |   |   |   |   |--- feature_3 >  22.50\n",
            "|   |   |   |   |   |   |--- feature_2 <= 68.00\n",
            "|   |   |   |   |   |   |   |--- class: 1.0\n",
            "|   |   |   |   |   |   |--- feature_2 >  68.00\n",
            "|   |   |   |   |   |   |   |--- feature_6 <= 0.16\n",
            "|   |   |   |   |   |   |   |   |--- feature_3 <= 33.50\n",
            "|   |   |   |   |   |   |   |   |   |--- class: 1.0\n",
            "|   |   |   |   |   |   |   |   |--- feature_3 >  33.50\n",
            "|   |   |   |   |   |   |   |   |   |--- class: 0.0\n",
            "|   |   |   |   |   |   |   |--- feature_6 >  0.16\n",
            "|   |   |   |   |   |   |   |   |--- class: 0.0\n",
            "|   |   |   |   |--- feature_6 >  0.22\n",
            "|   |   |   |   |   |--- feature_7 <= 41.50\n",
            "|   |   |   |   |   |   |--- feature_2 <= 55.00\n",
            "|   |   |   |   |   |   |   |--- feature_6 <= 0.63\n",
            "|   |   |   |   |   |   |   |   |--- class: 1.0\n",
            "|   |   |   |   |   |   |   |--- feature_6 >  0.63\n",
            "|   |   |   |   |   |   |   |   |--- class: 0.0\n",
            "|   |   |   |   |   |   |--- feature_2 >  55.00\n",
            "|   |   |   |   |   |   |   |--- feature_4 <= 117.50\n",
            "|   |   |   |   |   |   |   |   |--- feature_7 <= 22.50\n",
            "|   |   |   |   |   |   |   |   |   |--- class: 0.0\n",
            "|   |   |   |   |   |   |   |   |--- feature_7 >  22.50\n",
            "|   |   |   |   |   |   |   |   |   |--- feature_0 <= 9.00\n",
            "|   |   |   |   |   |   |   |   |   |   |--- feature_6 <= 0.58\n",
            "|   |   |   |   |   |   |   |   |   |   |   |--- truncated branch of depth 5\n",
            "|   |   |   |   |   |   |   |   |   |   |--- feature_6 >  0.58\n",
            "|   |   |   |   |   |   |   |   |   |   |   |--- class: 0.0\n",
            "|   |   |   |   |   |   |   |   |   |--- feature_0 >  9.00\n",
            "|   |   |   |   |   |   |   |   |   |   |--- class: 0.0\n",
            "|   |   |   |   |   |   |   |--- feature_4 >  117.50\n",
            "|   |   |   |   |   |   |   |   |--- feature_3 <= 29.50\n",
            "|   |   |   |   |   |   |   |   |   |--- class: 0.0\n",
            "|   |   |   |   |   |   |   |   |--- feature_3 >  29.50\n",
            "|   |   |   |   |   |   |   |   |   |--- feature_7 <= 34.50\n",
            "|   |   |   |   |   |   |   |   |   |   |--- feature_0 <= 2.50\n",
            "|   |   |   |   |   |   |   |   |   |   |   |--- truncated branch of depth 3\n",
            "|   |   |   |   |   |   |   |   |   |   |--- feature_0 >  2.50\n",
            "|   |   |   |   |   |   |   |   |   |   |   |--- class: 0.0\n",
            "|   |   |   |   |   |   |   |   |   |--- feature_7 >  34.50\n",
            "|   |   |   |   |   |   |   |   |   |   |--- class: 1.0\n",
            "|   |   |   |   |   |--- feature_7 >  41.50\n",
            "|   |   |   |   |   |   |--- feature_5 <= 29.45\n",
            "|   |   |   |   |   |   |   |--- feature_7 <= 54.50\n",
            "|   |   |   |   |   |   |   |   |--- feature_2 <= 75.00\n",
            "|   |   |   |   |   |   |   |   |   |--- class: 0.0\n",
            "|   |   |   |   |   |   |   |   |--- feature_2 >  75.00\n",
            "|   |   |   |   |   |   |   |   |   |--- class: 1.0\n",
            "|   |   |   |   |   |   |   |--- feature_7 >  54.50\n",
            "|   |   |   |   |   |   |   |   |--- feature_2 <= 75.00\n",
            "|   |   |   |   |   |   |   |   |   |--- feature_5 <= 25.25\n",
            "|   |   |   |   |   |   |   |   |   |   |--- class: 1.0\n",
            "|   |   |   |   |   |   |   |   |   |--- feature_5 >  25.25\n",
            "|   |   |   |   |   |   |   |   |   |   |--- class: 0.0\n",
            "|   |   |   |   |   |   |   |   |--- feature_2 >  75.00\n",
            "|   |   |   |   |   |   |   |   |   |--- class: 0.0\n",
            "|   |   |   |   |   |   |--- feature_5 >  29.45\n",
            "|   |   |   |   |   |   |   |--- class: 1.0\n",
            "|   |   |   |--- feature_6 >  0.72\n",
            "|   |   |   |   |--- feature_1 <= 139.00\n",
            "|   |   |   |   |   |--- class: 1.0\n",
            "|   |   |   |   |--- feature_1 >  139.00\n",
            "|   |   |   |   |   |--- feature_0 <= 2.50\n",
            "|   |   |   |   |   |   |--- class: 0.0\n",
            "|   |   |   |   |   |--- feature_0 >  2.50\n",
            "|   |   |   |   |   |   |--- feature_6 <= 0.82\n",
            "|   |   |   |   |   |   |   |--- class: 1.0\n",
            "|   |   |   |   |   |   |--- feature_6 >  0.82\n",
            "|   |   |   |   |   |   |   |--- feature_1 <= 152.50\n",
            "|   |   |   |   |   |   |   |   |--- class: 1.0\n",
            "|   |   |   |   |   |   |   |--- feature_1 >  152.50\n",
            "|   |   |   |   |   |   |   |   |--- class: 0.0\n",
            "|   |   |--- feature_5 >  41.65\n",
            "|   |   |   |--- feature_7 <= 46.50\n",
            "|   |   |   |   |--- feature_3 <= 50.00\n",
            "|   |   |   |   |   |--- class: 1.0\n",
            "|   |   |   |   |--- feature_3 >  50.00\n",
            "|   |   |   |   |   |--- class: 0.0\n",
            "|   |   |   |--- feature_7 >  46.50\n",
            "|   |   |   |   |--- class: 0.0\n",
            "|   |--- feature_1 >  158.50\n",
            "|   |   |--- feature_7 <= 59.50\n",
            "|   |   |   |--- feature_4 <= 629.50\n",
            "|   |   |   |   |--- feature_5 <= 23.10\n",
            "|   |   |   |   |   |--- class: 0.0\n",
            "|   |   |   |   |--- feature_5 >  23.10\n",
            "|   |   |   |   |   |--- feature_1 <= 188.50\n",
            "|   |   |   |   |   |   |--- feature_5 <= 46.80\n",
            "|   |   |   |   |   |   |   |--- class: 1.0\n",
            "|   |   |   |   |   |   |--- feature_5 >  46.80\n",
            "|   |   |   |   |   |   |   |--- feature_4 <= 177.50\n",
            "|   |   |   |   |   |   |   |   |--- class: 1.0\n",
            "|   |   |   |   |   |   |   |--- feature_4 >  177.50\n",
            "|   |   |   |   |   |   |   |   |--- class: 0.0\n",
            "|   |   |   |   |   |--- feature_1 >  188.50\n",
            "|   |   |   |   |   |   |--- feature_1 <= 193.50\n",
            "|   |   |   |   |   |   |   |--- class: 0.0\n",
            "|   |   |   |   |   |   |--- feature_1 >  193.50\n",
            "|   |   |   |   |   |   |   |--- class: 1.0\n",
            "|   |   |   |--- feature_4 >  629.50\n",
            "|   |   |   |   |--- feature_4 <= 795.00\n",
            "|   |   |   |   |   |--- class: 0.0\n",
            "|   |   |   |   |--- feature_4 >  795.00\n",
            "|   |   |   |   |   |--- class: 1.0\n",
            "|   |   |--- feature_7 >  59.50\n",
            "|   |   |   |--- feature_6 <= 0.58\n",
            "|   |   |   |   |--- class: 0.0\n",
            "|   |   |   |--- feature_6 >  0.58\n",
            "|   |   |   |   |--- class: 1.0\n",
            "\n"
          ],
          "name": "stdout"
        },
        {
          "output_type": "display_data",
          "data": {
            "image/png": "[encoded data removed]",
            "text/plain": [
              "<Figure size 432x288 with 1 Axes>"
            ]
          },
          "metadata": {
            "tags": [],
            "needs_background": "light"
          }
        }
      ]
    }
  ]
}